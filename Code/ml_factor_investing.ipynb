{
  "nbformat": 4,
  "nbformat_minor": 0,
  "metadata": {
    "kernelspec": {
      "display_name": "Python 3",
      "language": "python",
      "name": "python3"
    },
    "language_info": {
      "codemirror_mode": {
        "name": "ipython",
        "version": 3
      },
      "file_extension": ".py",
      "mimetype": "text/x-python",
      "name": "python",
      "nbconvert_exporter": "python",
      "pygments_lexer": "ipython3",
      "version": "3.7.6"
    },
    "colab": {
      "name": "ml_factor_investing.ipynb",
      "provenance": [],
      "include_colab_link": true
    }
  },
  "cells": [
    {
      "cell_type": "markdown",
      "metadata": {
        "id": "view-in-github",
        "colab_type": "text"
      },
      "source": [
        "<a href=\"https://colab.research.google.com/gist/jus-tinian/94f091bd342cab75d65b64bbba5e7ef6/ml_factor_investing.ipynb\" target=\"_parent\"><img src=\"https://colab.research.google.com/assets/colab-badge.svg\" alt=\"Open In Colab\"/></a>"
      ]
    },
    {
      "cell_type": "markdown",
      "metadata": {
        "id": "6oWpiuf3g_jO",
        "colab_type": "text"
      },
      "source": [
        "# Applied Machine Learning Project:"
      ]
    },
    {
      "cell_type": "markdown",
      "metadata": {
        "id": "18oPQBcog_jP",
        "colab_type": "text"
      },
      "source": [
        "## Machine Learning for Factor Investing"
      ]
    },
    {
      "cell_type": "markdown",
      "metadata": {
        "id": "bzrBaV-Dg_jQ",
        "colab_type": "text"
      },
      "source": [
        "---"
      ]
    },
    {
      "cell_type": "markdown",
      "metadata": {
        "id": "DgmE0B4Tg_jY",
        "colab_type": "text"
      },
      "source": [
        "## Phase 1 Tasks\n",
        "\n",
        "- Define the Objective\n",
        "- Data Acquisition\n",
        "- Detailed description of dataset\n",
        "- Exploratory Data Analysis\n",
        "- Algorithm selection"
      ]
    },
    {
      "cell_type": "markdown",
      "metadata": {
        "id": "4mJgzD7eg_ja",
        "colab_type": "text"
      },
      "source": [
        "---\n",
        "---"
      ]
    },
    {
      "cell_type": "markdown",
      "metadata": {
        "id": "O35qUijHg_jb",
        "colab_type": "text"
      },
      "source": [
        "## The Objective\n",
        "\n",
        "The project objective is to use machine learning and the Python programming language to model returns on public equity investments across four labels: 1, 3, 6, and 12 month timeframes. Performance measures in the context of this notebook are in reference to machine learning performance measures, and not performance measures on portfolios or individual equities. This project will likely not attempt to create portfolios from our ML models, as portfolio contstruction is beyond the scope of this course. \n",
        "\n",
        "Mainly, the text _Machine Learning for Factor Investing_ (MLFI) by Tony Guida and Dr. Guillaume Coqueret will be used as a guide for developing our models. MLFI will primarily be supplemented by Dr. Yves Hilpisch's _Python for Finance 2d ed_ (PyFi) chapter 13. Finally, Dr. Marcos Lopez de Prado's _Advances in Financial Machine Learning_ (AFML) will be used to aid in hyperparameter tuning with cross validation. AFML will also be referenced for our work with Random Forests. \n",
        "\n",
        "MLFI is written in the R programming language, PyFi is written in Python 3, and AFML is written in Python 2; this project will translate R to Python code, and use Python 3 and scikit-learn (SKL) machine learning library. Additional libraries to be used are: Pandas, Numpy, and Matplotlib.\n",
        "\n",
        "_Main References:_\n",
        "- Machine Learning for Factor Investing, Tony Guida and Guillaume Coqueret: http://www.mlfactor.com/\n",
        "- Machine Learning for Asset Managers, Dr. Marcos Lopez de Prado\n",
        "- Advances in Financial Machine Learning, Dr. Marcos Lopez de Prado\n",
        "- Python for Finance, 2d ed., Dr. Yves Hilpisch\n",
        "- Scikit-learn: https://scikit-learn.org/stable/\n",
        "\n",
        "_Supplemental References:_\n",
        "- Machine Learning for Finance, Dixon et al\n",
        "- Quantum Finance, Raymond S.T. Lee\n",
        "- Machine Learning for Financial Market Prediction — Time Series Prediction With Sklearn and Keras\n",
        " - https://alphaarchitect.com/2018/06/05/machine-learning-financial-market-prediction-time-series-prediction-sklearn-keras/\n",
        "- Machine Learning Classification Methods and Factor Investing\n",
        " - https://alphaarchitect.com/2018/12/21/machine-learning-classification-methods-and-factor-investing/\n",
        "\n"
      ]
    },
    {
      "cell_type": "markdown",
      "metadata": {
        "id": "NIk3QGbtg_jc",
        "colab_type": "text"
      },
      "source": [
        "---\n",
        "---"
      ]
    },
    {
      "cell_type": "markdown",
      "metadata": {
        "id": "Tv8ePBklg_jc",
        "colab_type": "text"
      },
      "source": [
        "## The Data\n",
        "\n",
        "**_Acquisition_** <br>\n",
        "\n",
        "The original data was retrieved from https://github.com/shokru/mlfactor.github.io/blob/master/material/data_ml.RData as an RData file and converted to CSV. The data has been placed onto Kaggle for use by other students and machine learning enthusiasts: https://www.kaggle.com/jgoheen/machine-learning-for-factor-investing\n",
        "\n",
        "**_Description_** <br>\n",
        "\n",
        "The data consists of 99 columns - including the stock ID (company) and date, partitioned into the metric-families shown below:\n",
        "\n",
        "* valuation (earning yields, accounting ratios)\n",
        "* profitability and quality (return on equity)\n",
        "* momentum and technical analysis (past returns, relative strength index)\n",
        "* risk (volatilities)\n",
        "* estimates (earnings-per-share) \n",
        "* volume and liquidity (share turnover)\n",
        "\n",
        "There are 1207 companies covered across 21 years, from November 1998 to March 2019. Not all 1207 have data available across the entire 245 month span, as shown in the below plot.\n",
        "\n",
        "The first 2 columns are stock_id and date, and are not used as features.\n",
        "\n",
        "Columns 3 - 95 are the model features. \n",
        "\n",
        "Columns 96-99 are the target variables (labels). The label names are:\n",
        "\n",
        "* R1M_Usd: return forward 1 month <br>\n",
        "* R3M_Usd: return forward 3 months <br>\n",
        "* R6M_Usd: return forward 6 months <br>\n",
        "* R12M_Usd: return forward 12 months <br>\n",
        "\n",
        "The raw data comprises of 268336 rows.\n",
        "\n",
        "The features are all continuous data. There are no initial categorical features. The stock_id column is a cardinal ID of the firm's name. The firm name is not included in the dataset; meaning no investment strategies can be developed directly from this dataset.\n",
        "\n",
        "The features data was scaled by the authors using uniformization. \n",
        "\n",
        "> uniformization: $\\tilde{x}_i=F_X(x_i)$, where $F_X$ is the empirical cumulative distribution function of $X$. In this case, the vector $\\tilde{X}$ is defined to follow a uniform distribution over [0,1]\n",
        "\n",
        "The labels appear to have not been scaled (shown in EDA section).\n",
        "\n",
        "A data dictionary is provided in the Preprocessing and EDA section of this notebook and a full description of columns (dates, identifiers, features, and labels) can be found at: http://www.mlfactor.com/data-description.html"
      ]
    },
    {
      "cell_type": "code",
      "metadata": {
        "id": "YH-r1Nfqg_je",
        "colab_type": "code",
        "colab": {}
      },
      "source": [
        "# generic imports\n",
        "import pandas as pd\n",
        "import matplotlib.pyplot as plt"
      ],
      "execution_count": null,
      "outputs": []
    },
    {
      "cell_type": "code",
      "metadata": {
        "id": "oaTkgBtEg_jj",
        "colab_type": "code",
        "colab": {}
      },
      "source": [
        "# set option to display all rows for certain EDA methods\n",
        "pd.set_option('display.max_rows', 100)\n",
        "pd.set_option('max_colwidth', 500)"
      ],
      "execution_count": null,
      "outputs": []
    },
    {
      "cell_type": "code",
      "metadata": {
        "id": "gYuM_gfMg_jo",
        "colab_type": "code",
        "colab": {}
      },
      "source": [
        "# get data\n",
        "df = pd.read_csv('mlfi.csv', index_col=\"Unnamed: 0\")"
      ],
      "execution_count": null,
      "outputs": []
    },
    {
      "cell_type": "code",
      "metadata": {
        "id": "S4TJcyavg_jt",
        "colab_type": "code",
        "colab": {},
        "outputId": "29d7af70-0873-467c-8a72-a7ca0b8d2d3a"
      },
      "source": [
        "# plot assets over time\n",
        "df.groupby('date').count()['stock_id'].plot(kind='bar', figsize=(14, 8))\n",
        "plt.xticks([])\n",
        "plt.title(\"Assets Over Time: Grouped by Month\")\n",
        "plt.xlabel(\"November 1998 - March 2019, Monthly\")\n",
        "plt.ylabel(\"Stock IDs in Month\");"
      ],
      "execution_count": null,
      "outputs": [
        {
          "output_type": "display_data",
          "data": {
            "image/png": "[encoded data removed]",
            "text/plain": [
              "<Figure size 1008x576 with 1 Axes>"
            ]
          },
          "metadata": {
            "tags": [],
            "needs_background": "light"
          }
        }
      ]
    },
    {
      "cell_type": "markdown",
      "metadata": {
        "id": "a7v-hmy_g_jz",
        "colab_type": "text"
      },
      "source": [
        "---\n",
        "---"
      ]
    },
    {
      "cell_type": "markdown",
      "metadata": {
        "id": "rwEZDLvZg_jz",
        "colab_type": "text"
      },
      "source": [
        "## Preprocessing and Exploratory Data Analysis"
      ]
    },
    {
      "cell_type": "markdown",
      "metadata": {
        "id": "-3kCEk06g_j0",
        "colab_type": "text"
      },
      "source": [
        "**_Preprocessing_**\n",
        "\n",
        "An amount of preprocessing and filtering was necessary prior to exploratory data analysis, as certain tasks - plotting a scatter matrix or histogram of all columns - proved intensive for a DataFrame of 99 columns. \n",
        "\n",
        "The first step in preprocessing was to download the file from Github, and convert from an RData file to a CSV file so the data-file could be used with Python programs.\n",
        "\n",
        "The data does not contain any missing values. As mentioned above, the features are all continuous data and there are no categorical text features. \n",
        "\n",
        "I've decided to drop the stock_ids which do not have data for all 21 years. The max available months when grouped-by stock_id is 245 months. The below shown code reduces the data to those stock IDs which have 245 available months. Resulting in 372 stocks being available for the project.\n",
        "\n",
        "The text supplies a short list of features to use: \n",
        "\n",
        "* \"Div_Yld\": divdend yield\n",
        "* \"Eps\": earnings per share\n",
        "* \"Mkt_Cap_12M_Usd\": 12 month market capitilization, reported in U.S. Dollars\n",
        "* \"Mom_11M_Usd\": price momentum 12 - 1 months in USD\n",
        "* \"Ocf\": operating cash flow\n",
        "* \"Pb\": price to book ratio\n",
        "* \"Vol1Y_Usd\": volatility of returns over one year\n",
        "\n",
        "We will use this list object - features_short - for our EDA in this notebook. Given features_short focuses on features which provide data aggregated for 11 or 12 months, the label we will use in our initial univariate models will be 'R12M_Usd': return forward 12 months.\n",
        "\n",
        "Given the amount of columns, we refrain from printing to screen a full .info or .describe and instead filter on select columns for brevity. Multiple Pandas EDA methods have been combined into this DataFrame: info() as dtypes.values, describe(), and null counts."
      ]
    },
    {
      "cell_type": "markdown",
      "metadata": {
        "id": "4ibR7NKBg_j1",
        "colab_type": "text"
      },
      "source": [
        "- - -\n",
        "Define lists for non-features, features, features_short, and labels; and filter the DataFrame"
      ]
    },
    {
      "cell_type": "code",
      "metadata": {
        "id": "xmwMl5teg_j1",
        "colab_type": "code",
        "colab": {}
      },
      "source": [
        "# lists for filtering\n",
        "non_features = ['date', 'stock_id']\n",
        "labels = ['R1M_Usd', 'R3M_Usd', 'R6M_Usd', 'R12M_Usd']\n",
        "features = [i for i in df.columns if i not in non_features+labels]\n",
        "features_short = [\"Div_Yld\", \"Eps\", \"Mkt_Cap_12M_Usd\", \"Mom_11M_Usd\", \"Ocf\", \"Pb\", \"Vol1Y_Usd\"]\n",
        "labels_short = ['R12M_Usd']\n",
        "eda_columns = non_features + features_short + labels_short\n",
        "eda_features_label = features_short + labels_short"
      ],
      "execution_count": null,
      "outputs": []
    },
    {
      "cell_type": "code",
      "metadata": {
        "id": "G4wdSoy4g_j6",
        "colab_type": "code",
        "colab": {},
        "outputId": "6458b58d-8790-4c97-e4ce-0331d5d70ccd"
      },
      "source": [
        "# get filtered list of stock_ids; print max number of months available and the number of unique stock IDs after filtering\n",
        "max_time_view = df.groupby('stock_id').count().sort_values('date', ascending=False)\n",
        "print('-The maximum number of available months is: ', max_time_view['date'].max())\n",
        "max_time_view = max_time_view.loc[max_time_view.date == 245, :]\n",
        "# get list of stock_ids with 245 months available\n",
        "max_time_view_stock_ids = max_time_view.index.tolist()\n",
        "max_time_view_stock_ids.sort()\n",
        "print('-There will %d stocks covered after filtering' %len(max_time_view_stock_ids))"
      ],
      "execution_count": null,
      "outputs": [
        {
          "output_type": "stream",
          "text": [
            "-The maximum number of available months is:  245\n",
            "-There will 372 stocks covered after filtering\n"
          ],
          "name": "stdout"
        }
      ]
    },
    {
      "cell_type": "code",
      "metadata": {
        "id": "aG9qgflug_j9",
        "colab_type": "code",
        "colab": {}
      },
      "source": [
        "# filter to stock_ids with 245 available months\n",
        "df = df[eda_columns].loc[df.stock_id.isin(max_time_view_stock_ids), :].reset_index().drop('index', axis= 1).sort_values('stock_id')"
      ],
      "execution_count": null,
      "outputs": []
    },
    {
      "cell_type": "markdown",
      "metadata": {
        "id": "5dhuSWMzg_kC",
        "colab_type": "text"
      },
      "source": [
        "---\n",
        "\n",
        "**_Exploratory Data Analysis_**\n",
        "\n",
        "**Data Dictionary**\n",
        "\n",
        "Multiple Pandas EDA methods have been combined into this DataFrame: info() as dtypes.values, describe(), and null counts.\n",
        "\n",
        "The data was described above in the description section, and we refrain from repeating here."
      ]
    },
    {
      "cell_type": "code",
      "metadata": {
        "id": "gBgFqMcHg_kC",
        "colab_type": "code",
        "colab": {},
        "outputId": "baf9d472-2c8b-41c1-aeff-3e2b014d1ce0"
      },
      "source": [
        "# get data description\n",
        "data_dictionary = pd.read_csv('mlfactor_data_desc.csv')\n",
        "# filter to EDA columns\n",
        "data_dictionary = data_dictionary.loc[data_dictionary['Column Name'].isin(eda_columns), :]\n",
        "# get dtypes\n",
        "data_dictionary['_dtypes'] = df.dtypes.values\n",
        "# get notnull values counts\n",
        "data_dictionary['non-null'] = df.notnull().count().values\n",
        "# call describe() and join to data_dictionary\n",
        "data_dictionary = data_dictionary.join(df.describe(include='all').T, on='Column Name')\n",
        "# get null count\n",
        "data_dictionary['null_count'] = data_dictionary['non-null'] - data_dictionary['count']\n",
        "# drop unwanted columns\n",
        "data_dictionary = data_dictionary.drop(['unique', 'top', 'freq'], axis=1)\n",
        "# show data_dictionary\n",
        "data_dictionary"
      ],
      "execution_count": null,
      "outputs": [
        {
          "output_type": "execute_result",
          "data": {
            "text/html": [
              "<div>\n",
              "<style scoped>\n",
              "    .dataframe tbody tr th:only-of-type {\n",
              "        vertical-align: middle;\n",
              "    }\n",
              "\n",
              "    .dataframe tbody tr th {\n",
              "        vertical-align: top;\n",
              "    }\n",
              "\n",
              "    .dataframe thead th {\n",
              "        text-align: right;\n",
              "    }\n",
              "</style>\n",
              "<table border=\"1\" class=\"dataframe\">\n",
              "  <thead>\n",
              "    <tr style=\"text-align: right;\">\n",
              "      <th></th>\n",
              "      <th>Column Name</th>\n",
              "      <th>Short Description</th>\n",
              "      <th>_dtypes</th>\n",
              "      <th>non-null</th>\n",
              "      <th>count</th>\n",
              "      <th>mean</th>\n",
              "      <th>std</th>\n",
              "      <th>min</th>\n",
              "      <th>25%</th>\n",
              "      <th>50%</th>\n",
              "      <th>75%</th>\n",
              "      <th>max</th>\n",
              "      <th>null_count</th>\n",
              "    </tr>\n",
              "  </thead>\n",
              "  <tbody>\n",
              "    <tr>\n",
              "      <th>0</th>\n",
              "      <td>stock_id</td>\n",
              "      <td>security id</td>\n",
              "      <td>object</td>\n",
              "      <td>91140</td>\n",
              "      <td>91140</td>\n",
              "      <td>569.18</td>\n",
              "      <td>347.389</td>\n",
              "      <td>3</td>\n",
              "      <td>277</td>\n",
              "      <td>534</td>\n",
              "      <td>836.25</td>\n",
              "      <td>1210</td>\n",
              "      <td>0</td>\n",
              "    </tr>\n",
              "    <tr>\n",
              "      <th>1</th>\n",
              "      <td>date</td>\n",
              "      <td>date of the data</td>\n",
              "      <td>int64</td>\n",
              "      <td>91140</td>\n",
              "      <td>91140</td>\n",
              "      <td>NaN</td>\n",
              "      <td>NaN</td>\n",
              "      <td>NaN</td>\n",
              "      <td>NaN</td>\n",
              "      <td>NaN</td>\n",
              "      <td>NaN</td>\n",
              "      <td>NaN</td>\n",
              "      <td>0</td>\n",
              "    </tr>\n",
              "    <tr>\n",
              "      <th>14</th>\n",
              "      <td>Div_Yld</td>\n",
              "      <td>dividend yield</td>\n",
              "      <td>float64</td>\n",
              "      <td>91140</td>\n",
              "      <td>91140</td>\n",
              "      <td>0.533511</td>\n",
              "      <td>0.296181</td>\n",
              "      <td>0.01</td>\n",
              "      <td>0.27</td>\n",
              "      <td>0.56</td>\n",
              "      <td>0.8</td>\n",
              "      <td>1</td>\n",
              "      <td>0</td>\n",
              "    </tr>\n",
              "    <tr>\n",
              "      <th>21</th>\n",
              "      <td>Eps</td>\n",
              "      <td>earnings per share</td>\n",
              "      <td>float64</td>\n",
              "      <td>91140</td>\n",
              "      <td>91140</td>\n",
              "      <td>0.472142</td>\n",
              "      <td>0.263564</td>\n",
              "      <td>0.01</td>\n",
              "      <td>0.26</td>\n",
              "      <td>0.46</td>\n",
              "      <td>0.68</td>\n",
              "      <td>1</td>\n",
              "      <td>0</td>\n",
              "    </tr>\n",
              "    <tr>\n",
              "      <th>42</th>\n",
              "      <td>Mkt_Cap_12M_Usd</td>\n",
              "      <td>average market capitalization over 12 months in USD</td>\n",
              "      <td>float64</td>\n",
              "      <td>91140</td>\n",
              "      <td>91140</td>\n",
              "      <td>0.304373</td>\n",
              "      <td>0.184114</td>\n",
              "      <td>0.01</td>\n",
              "      <td>0.15</td>\n",
              "      <td>0.29</td>\n",
              "      <td>0.44</td>\n",
              "      <td>0.98</td>\n",
              "      <td>0</td>\n",
              "    </tr>\n",
              "    <tr>\n",
              "      <th>45</th>\n",
              "      <td>Mom_11M_Usd</td>\n",
              "      <td>price momentum 12 - 1 months in USD</td>\n",
              "      <td>float64</td>\n",
              "      <td>91140</td>\n",
              "      <td>91140</td>\n",
              "      <td>0.496133</td>\n",
              "      <td>0.28209</td>\n",
              "      <td>0.01</td>\n",
              "      <td>0.26</td>\n",
              "      <td>0.49</td>\n",
              "      <td>0.74</td>\n",
              "      <td>1</td>\n",
              "      <td>0</td>\n",
              "    </tr>\n",
              "    <tr>\n",
              "      <th>60</th>\n",
              "      <td>Ocf</td>\n",
              "      <td>operating cash flow</td>\n",
              "      <td>float64</td>\n",
              "      <td>91140</td>\n",
              "      <td>91140</td>\n",
              "      <td>0.33644</td>\n",
              "      <td>0.191539</td>\n",
              "      <td>0.01</td>\n",
              "      <td>0.18</td>\n",
              "      <td>0.32</td>\n",
              "      <td>0.48</td>\n",
              "      <td>0.99</td>\n",
              "      <td>0</td>\n",
              "    </tr>\n",
              "    <tr>\n",
              "      <th>72</th>\n",
              "      <td>Pb</td>\n",
              "      <td>price to book</td>\n",
              "      <td>float64</td>\n",
              "      <td>91140</td>\n",
              "      <td>91140</td>\n",
              "      <td>0.428903</td>\n",
              "      <td>0.264067</td>\n",
              "      <td>0.01</td>\n",
              "      <td>0.21</td>\n",
              "      <td>0.41</td>\n",
              "      <td>0.62</td>\n",
              "      <td>1</td>\n",
              "      <td>0</td>\n",
              "    </tr>\n",
              "    <tr>\n",
              "      <th>93</th>\n",
              "      <td>Vol1Y_Usd</td>\n",
              "      <td>volatility of returns over one year</td>\n",
              "      <td>float64</td>\n",
              "      <td>91140</td>\n",
              "      <td>91140</td>\n",
              "      <td>0.506152</td>\n",
              "      <td>0.276881</td>\n",
              "      <td>0.01</td>\n",
              "      <td>0.27</td>\n",
              "      <td>0.5</td>\n",
              "      <td>0.74</td>\n",
              "      <td>1</td>\n",
              "      <td>0</td>\n",
              "    </tr>\n",
              "    <tr>\n",
              "      <th>98</th>\n",
              "      <td>R12M_Usd</td>\n",
              "      <td>return forward 12 months (LABEL)</td>\n",
              "      <td>float64</td>\n",
              "      <td>91140</td>\n",
              "      <td>91140</td>\n",
              "      <td>0.131113</td>\n",
              "      <td>0.664709</td>\n",
              "      <td>-0.968</td>\n",
              "      <td>-0.092</td>\n",
              "      <td>0.067</td>\n",
              "      <td>0.269</td>\n",
              "      <td>72.24</td>\n",
              "      <td>0</td>\n",
              "    </tr>\n",
              "  </tbody>\n",
              "</table>\n",
              "</div>"
            ],
            "text/plain": [
              "        Column Name                                    Short Description  \\\n",
              "0          stock_id                                          security id   \n",
              "1              date                                     date of the data   \n",
              "14          Div_Yld                                       dividend yield   \n",
              "21              Eps                                   earnings per share   \n",
              "42  Mkt_Cap_12M_Usd  average market capitalization over 12 months in USD   \n",
              "45      Mom_11M_Usd                  price momentum 12 - 1 months in USD   \n",
              "60              Ocf                                  operating cash flow   \n",
              "72               Pb                                        price to book   \n",
              "93        Vol1Y_Usd                  volatility of returns over one year   \n",
              "98         R12M_Usd                     return forward 12 months (LABEL)   \n",
              "\n",
              "    _dtypes  non-null  count      mean       std    min    25%    50%     75%  \\\n",
              "0    object     91140  91140    569.18   347.389      3    277    534  836.25   \n",
              "1     int64     91140  91140       NaN       NaN    NaN    NaN    NaN     NaN   \n",
              "14  float64     91140  91140  0.533511  0.296181   0.01   0.27   0.56     0.8   \n",
              "21  float64     91140  91140  0.472142  0.263564   0.01   0.26   0.46    0.68   \n",
              "42  float64     91140  91140  0.304373  0.184114   0.01   0.15   0.29    0.44   \n",
              "45  float64     91140  91140  0.496133   0.28209   0.01   0.26   0.49    0.74   \n",
              "60  float64     91140  91140   0.33644  0.191539   0.01   0.18   0.32    0.48   \n",
              "72  float64     91140  91140  0.428903  0.264067   0.01   0.21   0.41    0.62   \n",
              "93  float64     91140  91140  0.506152  0.276881   0.01   0.27    0.5    0.74   \n",
              "98  float64     91140  91140  0.131113  0.664709 -0.968 -0.092  0.067   0.269   \n",
              "\n",
              "      max null_count  \n",
              "0    1210          0  \n",
              "1     NaN          0  \n",
              "14      1          0  \n",
              "21      1          0  \n",
              "42   0.98          0  \n",
              "45      1          0  \n",
              "60   0.99          0  \n",
              "72      1          0  \n",
              "93      1          0  \n",
              "98  72.24          0  "
            ]
          },
          "metadata": {
            "tags": []
          },
          "execution_count": 8
        }
      ]
    },
    {
      "cell_type": "markdown",
      "metadata": {
        "id": "xlz100Btg_kF",
        "colab_type": "text"
      },
      "source": [
        "--- \n",
        "**Correlation Matrix**\n",
        "\n",
        "Based on highest positive correlation with our label (R12M_Usd), the feature `Vol1Y_Usd` appears promising. Based on lowest negative correlation with the label, the feature `Mkt_Cap_12M_Usd` also appears promising. Meaning, we should expect those stock_ids with the lowest market cap, and highest volatility to perform best.\n"
      ]
    },
    {
      "cell_type": "code",
      "metadata": {
        "id": "47_Obdpcg_kG",
        "colab_type": "code",
        "colab": {},
        "outputId": "4009cf63-72da-437e-afaa-5a91641e9919"
      },
      "source": [
        "# plot correlation matrix for filtered dataframe\n",
        "# we can ignore stock_id\n",
        "# the label is R12M_Usd\n",
        "df[eda_features_label].corr().style.background_gradient().set_precision(4)"
      ],
      "execution_count": null,
      "outputs": [
        {
          "output_type": "execute_result",
          "data": {
            "text/html": [
              "<style  type=\"text/css\" >\n",
              "    #T_327f8612_c888_11ea_a2ce_acde48001122row0_col0 {\n",
              "            background-color:  #023858;\n",
              "            color:  #f1f1f1;\n",
              "        }    #T_327f8612_c888_11ea_a2ce_acde48001122row0_col1 {\n",
              "            background-color:  #a2bcda;\n",
              "            color:  #000000;\n",
              "        }    #T_327f8612_c888_11ea_a2ce_acde48001122row0_col2 {\n",
              "            background-color:  #d9d8ea;\n",
              "            color:  #000000;\n",
              "        }    #T_327f8612_c888_11ea_a2ce_acde48001122row0_col3 {\n",
              "            background-color:  #f8f1f8;\n",
              "            color:  #000000;\n",
              "        }    #T_327f8612_c888_11ea_a2ce_acde48001122row0_col4 {\n",
              "            background-color:  #cacee5;\n",
              "            color:  #000000;\n",
              "        }    #T_327f8612_c888_11ea_a2ce_acde48001122row0_col5 {\n",
              "            background-color:  #fff7fb;\n",
              "            color:  #000000;\n",
              "        }    #T_327f8612_c888_11ea_a2ce_acde48001122row0_col6 {\n",
              "            background-color:  #fff7fb;\n",
              "            color:  #000000;\n",
              "        }    #T_327f8612_c888_11ea_a2ce_acde48001122row0_col7 {\n",
              "            background-color:  #f7f0f7;\n",
              "            color:  #000000;\n",
              "        }    #T_327f8612_c888_11ea_a2ce_acde48001122row1_col0 {\n",
              "            background-color:  #94b6d7;\n",
              "            color:  #000000;\n",
              "        }    #T_327f8612_c888_11ea_a2ce_acde48001122row1_col1 {\n",
              "            background-color:  #023858;\n",
              "            color:  #f1f1f1;\n",
              "        }    #T_327f8612_c888_11ea_a2ce_acde48001122row1_col2 {\n",
              "            background-color:  #89b1d4;\n",
              "            color:  #000000;\n",
              "        }    #T_327f8612_c888_11ea_a2ce_acde48001122row1_col3 {\n",
              "            background-color:  #e6e2ef;\n",
              "            color:  #000000;\n",
              "        }    #T_327f8612_c888_11ea_a2ce_acde48001122row1_col4 {\n",
              "            background-color:  #8bb2d4;\n",
              "            color:  #000000;\n",
              "        }    #T_327f8612_c888_11ea_a2ce_acde48001122row1_col5 {\n",
              "            background-color:  #ede8f3;\n",
              "            color:  #000000;\n",
              "        }    #T_327f8612_c888_11ea_a2ce_acde48001122row1_col6 {\n",
              "            background-color:  #f7f0f7;\n",
              "            color:  #000000;\n",
              "        }    #T_327f8612_c888_11ea_a2ce_acde48001122row1_col7 {\n",
              "            background-color:  #fef6fa;\n",
              "            color:  #000000;\n",
              "        }    #T_327f8612_c888_11ea_a2ce_acde48001122row2_col0 {\n",
              "            background-color:  #b7c5df;\n",
              "            color:  #000000;\n",
              "        }    #T_327f8612_c888_11ea_a2ce_acde48001122row2_col1 {\n",
              "            background-color:  #75a9cf;\n",
              "            color:  #000000;\n",
              "        }    #T_327f8612_c888_11ea_a2ce_acde48001122row2_col2 {\n",
              "            background-color:  #023858;\n",
              "            color:  #f1f1f1;\n",
              "        }    #T_327f8612_c888_11ea_a2ce_acde48001122row2_col3 {\n",
              "            background-color:  #eee9f3;\n",
              "            color:  #000000;\n",
              "        }    #T_327f8612_c888_11ea_a2ce_acde48001122row2_col4 {\n",
              "            background-color:  #0771b1;\n",
              "            color:  #f1f1f1;\n",
              "        }    #T_327f8612_c888_11ea_a2ce_acde48001122row2_col5 {\n",
              "            background-color:  #a4bcda;\n",
              "            color:  #000000;\n",
              "        }    #T_327f8612_c888_11ea_a2ce_acde48001122row2_col6 {\n",
              "            background-color:  #e8e4f0;\n",
              "            color:  #000000;\n",
              "        }    #T_327f8612_c888_11ea_a2ce_acde48001122row2_col7 {\n",
              "            background-color:  #fff7fb;\n",
              "            color:  #000000;\n",
              "        }    #T_327f8612_c888_11ea_a2ce_acde48001122row3_col0 {\n",
              "            background-color:  #d1d2e6;\n",
              "            color:  #000000;\n",
              "        }    #T_327f8612_c888_11ea_a2ce_acde48001122row3_col1 {\n",
              "            background-color:  #c2cbe2;\n",
              "            color:  #000000;\n",
              "        }    #T_327f8612_c888_11ea_a2ce_acde48001122row3_col2 {\n",
              "            background-color:  #e0deed;\n",
              "            color:  #000000;\n",
              "        }    #T_327f8612_c888_11ea_a2ce_acde48001122row3_col3 {\n",
              "            background-color:  #023858;\n",
              "            color:  #f1f1f1;\n",
              "        }    #T_327f8612_c888_11ea_a2ce_acde48001122row3_col4 {\n",
              "            background-color:  #dcdaeb;\n",
              "            color:  #000000;\n",
              "        }    #T_327f8612_c888_11ea_a2ce_acde48001122row3_col5 {\n",
              "            background-color:  #d6d6e9;\n",
              "            color:  #000000;\n",
              "        }    #T_327f8612_c888_11ea_a2ce_acde48001122row3_col6 {\n",
              "            background-color:  #d9d8ea;\n",
              "            color:  #000000;\n",
              "        }    #T_327f8612_c888_11ea_a2ce_acde48001122row3_col7 {\n",
              "            background-color:  #fdf5fa;\n",
              "            color:  #000000;\n",
              "        }    #T_327f8612_c888_11ea_a2ce_acde48001122row4_col0 {\n",
              "            background-color:  #a8bedc;\n",
              "            color:  #000000;\n",
              "        }    #T_327f8612_c888_11ea_a2ce_acde48001122row4_col1 {\n",
              "            background-color:  #76aad0;\n",
              "            color:  #000000;\n",
              "        }    #T_327f8612_c888_11ea_a2ce_acde48001122row4_col2 {\n",
              "            background-color:  #0872b1;\n",
              "            color:  #f1f1f1;\n",
              "        }    #T_327f8612_c888_11ea_a2ce_acde48001122row4_col3 {\n",
              "            background-color:  #ece7f2;\n",
              "            color:  #000000;\n",
              "        }    #T_327f8612_c888_11ea_a2ce_acde48001122row4_col4 {\n",
              "            background-color:  #023858;\n",
              "            color:  #f1f1f1;\n",
              "        }    #T_327f8612_c888_11ea_a2ce_acde48001122row4_col5 {\n",
              "            background-color:  #e8e4f0;\n",
              "            color:  #000000;\n",
              "        }    #T_327f8612_c888_11ea_a2ce_acde48001122row4_col6 {\n",
              "            background-color:  #e9e5f1;\n",
              "            color:  #000000;\n",
              "        }    #T_327f8612_c888_11ea_a2ce_acde48001122row4_col7 {\n",
              "            background-color:  #f8f1f8;\n",
              "            color:  #000000;\n",
              "        }    #T_327f8612_c888_11ea_a2ce_acde48001122row5_col0 {\n",
              "            background-color:  #dad9ea;\n",
              "            color:  #000000;\n",
              "        }    #T_327f8612_c888_11ea_a2ce_acde48001122row5_col1 {\n",
              "            background-color:  #cdd0e5;\n",
              "            color:  #000000;\n",
              "        }    #T_327f8612_c888_11ea_a2ce_acde48001122row5_col2 {\n",
              "            background-color:  #91b5d6;\n",
              "            color:  #000000;\n",
              "        }    #T_327f8612_c888_11ea_a2ce_acde48001122row5_col3 {\n",
              "            background-color:  #d6d6e9;\n",
              "            color:  #000000;\n",
              "        }    #T_327f8612_c888_11ea_a2ce_acde48001122row5_col4 {\n",
              "            background-color:  #d9d8ea;\n",
              "            color:  #000000;\n",
              "        }    #T_327f8612_c888_11ea_a2ce_acde48001122row5_col5 {\n",
              "            background-color:  #023858;\n",
              "            color:  #f1f1f1;\n",
              "        }    #T_327f8612_c888_11ea_a2ce_acde48001122row5_col6 {\n",
              "            background-color:  #b3c3de;\n",
              "            color:  #000000;\n",
              "        }    #T_327f8612_c888_11ea_a2ce_acde48001122row5_col7 {\n",
              "            background-color:  #fbf3f9;\n",
              "            color:  #000000;\n",
              "        }    #T_327f8612_c888_11ea_a2ce_acde48001122row6_col0 {\n",
              "            background-color:  #fff7fb;\n",
              "            color:  #000000;\n",
              "        }    #T_327f8612_c888_11ea_a2ce_acde48001122row6_col1 {\n",
              "            background-color:  #fff7fb;\n",
              "            color:  #000000;\n",
              "        }    #T_327f8612_c888_11ea_a2ce_acde48001122row6_col2 {\n",
              "            background-color:  #fff7fb;\n",
              "            color:  #000000;\n",
              "        }    #T_327f8612_c888_11ea_a2ce_acde48001122row6_col3 {\n",
              "            background-color:  #fff7fb;\n",
              "            color:  #000000;\n",
              "        }    #T_327f8612_c888_11ea_a2ce_acde48001122row6_col4 {\n",
              "            background-color:  #fff7fb;\n",
              "            color:  #000000;\n",
              "        }    #T_327f8612_c888_11ea_a2ce_acde48001122row6_col5 {\n",
              "            background-color:  #e3e0ee;\n",
              "            color:  #000000;\n",
              "        }    #T_327f8612_c888_11ea_a2ce_acde48001122row6_col6 {\n",
              "            background-color:  #023858;\n",
              "            color:  #f1f1f1;\n",
              "        }    #T_327f8612_c888_11ea_a2ce_acde48001122row6_col7 {\n",
              "            background-color:  #e7e3f0;\n",
              "            color:  #000000;\n",
              "        }    #T_327f8612_c888_11ea_a2ce_acde48001122row7_col0 {\n",
              "            background-color:  #cacee5;\n",
              "            color:  #000000;\n",
              "        }    #T_327f8612_c888_11ea_a2ce_acde48001122row7_col1 {\n",
              "            background-color:  #dedcec;\n",
              "            color:  #000000;\n",
              "        }    #T_327f8612_c888_11ea_a2ce_acde48001122row7_col2 {\n",
              "            background-color:  #f1ebf4;\n",
              "            color:  #000000;\n",
              "        }    #T_327f8612_c888_11ea_a2ce_acde48001122row7_col3 {\n",
              "            background-color:  #faf3f9;\n",
              "            color:  #000000;\n",
              "        }    #T_327f8612_c888_11ea_a2ce_acde48001122row7_col4 {\n",
              "            background-color:  #e8e4f0;\n",
              "            color:  #000000;\n",
              "        }    #T_327f8612_c888_11ea_a2ce_acde48001122row7_col5 {\n",
              "            background-color:  #f7f0f7;\n",
              "            color:  #000000;\n",
              "        }    #T_327f8612_c888_11ea_a2ce_acde48001122row7_col6 {\n",
              "            background-color:  #b1c2de;\n",
              "            color:  #000000;\n",
              "        }    #T_327f8612_c888_11ea_a2ce_acde48001122row7_col7 {\n",
              "            background-color:  #023858;\n",
              "            color:  #f1f1f1;\n",
              "        }</style><table id=\"T_327f8612_c888_11ea_a2ce_acde48001122\" ><thead>    <tr>        <th class=\"blank level0\" ></th>        <th class=\"col_heading level0 col0\" >Div_Yld</th>        <th class=\"col_heading level0 col1\" >Eps</th>        <th class=\"col_heading level0 col2\" >Mkt_Cap_12M_Usd</th>        <th class=\"col_heading level0 col3\" >Mom_11M_Usd</th>        <th class=\"col_heading level0 col4\" >Ocf</th>        <th class=\"col_heading level0 col5\" >Pb</th>        <th class=\"col_heading level0 col6\" >Vol1Y_Usd</th>        <th class=\"col_heading level0 col7\" >R12M_Usd</th>    </tr></thead><tbody>\n",
              "                <tr>\n",
              "                        <th id=\"T_327f8612_c888_11ea_a2ce_acde48001122level0_row0\" class=\"row_heading level0 row0\" >Div_Yld</th>\n",
              "                        <td id=\"T_327f8612_c888_11ea_a2ce_acde48001122row0_col0\" class=\"data row0 col0\" >1</td>\n",
              "                        <td id=\"T_327f8612_c888_11ea_a2ce_acde48001122row0_col1\" class=\"data row0 col1\" >0.1784</td>\n",
              "                        <td id=\"T_327f8612_c888_11ea_a2ce_acde48001122row0_col2\" class=\"data row0 col2\" >0.04487</td>\n",
              "                        <td id=\"T_327f8612_c888_11ea_a2ce_acde48001122row0_col3\" class=\"data row0 col3\" >-0.06765</td>\n",
              "                        <td id=\"T_327f8612_c888_11ea_a2ce_acde48001122row0_col4\" class=\"data row0 col4\" >0.1083</td>\n",
              "                        <td id=\"T_327f8612_c888_11ea_a2ce_acde48001122row0_col5\" class=\"data row0 col5\" >-0.1256</td>\n",
              "                        <td id=\"T_327f8612_c888_11ea_a2ce_acde48001122row0_col6\" class=\"data row0 col6\" >-0.4179</td>\n",
              "                        <td id=\"T_327f8612_c888_11ea_a2ce_acde48001122row0_col7\" class=\"data row0 col7\" >-0.03717</td>\n",
              "            </tr>\n",
              "            <tr>\n",
              "                        <th id=\"T_327f8612_c888_11ea_a2ce_acde48001122level0_row1\" class=\"row_heading level0 row1\" >Eps</th>\n",
              "                        <td id=\"T_327f8612_c888_11ea_a2ce_acde48001122row1_col0\" class=\"data row1 col0\" >0.1784</td>\n",
              "                        <td id=\"T_327f8612_c888_11ea_a2ce_acde48001122row1_col1\" class=\"data row1 col1\" >1</td>\n",
              "                        <td id=\"T_327f8612_c888_11ea_a2ce_acde48001122row1_col2\" class=\"data row1 col2\" >0.3289</td>\n",
              "                        <td id=\"T_327f8612_c888_11ea_a2ce_acde48001122row1_col3\" class=\"data row1 col3\" >0.04931</td>\n",
              "                        <td id=\"T_327f8612_c888_11ea_a2ce_acde48001122row1_col4\" class=\"data row1 col4\" >0.3228</td>\n",
              "                        <td id=\"T_327f8612_c888_11ea_a2ce_acde48001122row1_col5\" class=\"data row1 col5\" >0.008932</td>\n",
              "                        <td id=\"T_327f8612_c888_11ea_a2ce_acde48001122row1_col6\" class=\"data row1 col6\" >-0.3383</td>\n",
              "                        <td id=\"T_327f8612_c888_11ea_a2ce_acde48001122row1_col7\" class=\"data row1 col7\" >-0.08585</td>\n",
              "            </tr>\n",
              "            <tr>\n",
              "                        <th id=\"T_327f8612_c888_11ea_a2ce_acde48001122level0_row2\" class=\"row_heading level0 row2\" >Mkt_Cap_12M_Usd</th>\n",
              "                        <td id=\"T_327f8612_c888_11ea_a2ce_acde48001122row2_col0\" class=\"data row2 col0\" >0.04487</td>\n",
              "                        <td id=\"T_327f8612_c888_11ea_a2ce_acde48001122row2_col1\" class=\"data row2 col1\" >0.3289</td>\n",
              "                        <td id=\"T_327f8612_c888_11ea_a2ce_acde48001122row2_col2\" class=\"data row2 col2\" >1</td>\n",
              "                        <td id=\"T_327f8612_c888_11ea_a2ce_acde48001122row2_col3\" class=\"data row2 col3\" >0.0006681</td>\n",
              "                        <td id=\"T_327f8612_c888_11ea_a2ce_acde48001122row2_col4\" class=\"data row2 col4\" >0.6864</td>\n",
              "                        <td id=\"T_327f8612_c888_11ea_a2ce_acde48001122row2_col5\" class=\"data row2 col5\" >0.3026</td>\n",
              "                        <td id=\"T_327f8612_c888_11ea_a2ce_acde48001122row2_col6\" class=\"data row2 col6\" >-0.2158</td>\n",
              "                        <td id=\"T_327f8612_c888_11ea_a2ce_acde48001122row2_col7\" class=\"data row2 col7\" >-0.09762</td>\n",
              "            </tr>\n",
              "            <tr>\n",
              "                        <th id=\"T_327f8612_c888_11ea_a2ce_acde48001122level0_row3\" class=\"row_heading level0 row3\" >Mom_11M_Usd</th>\n",
              "                        <td id=\"T_327f8612_c888_11ea_a2ce_acde48001122row3_col0\" class=\"data row3 col0\" >-0.06765</td>\n",
              "                        <td id=\"T_327f8612_c888_11ea_a2ce_acde48001122row3_col1\" class=\"data row3 col1\" >0.04931</td>\n",
              "                        <td id=\"T_327f8612_c888_11ea_a2ce_acde48001122row3_col2\" class=\"data row3 col2\" >0.0006681</td>\n",
              "                        <td id=\"T_327f8612_c888_11ea_a2ce_acde48001122row3_col3\" class=\"data row3 col3\" >1</td>\n",
              "                        <td id=\"T_327f8612_c888_11ea_a2ce_acde48001122row3_col4\" class=\"data row3 col4\" >0.02168</td>\n",
              "                        <td id=\"T_327f8612_c888_11ea_a2ce_acde48001122row3_col5\" class=\"data row3 col5\" >0.1274</td>\n",
              "                        <td id=\"T_327f8612_c888_11ea_a2ce_acde48001122row3_col6\" class=\"data row3 col6\" >-0.1229</td>\n",
              "                        <td id=\"T_327f8612_c888_11ea_a2ce_acde48001122row3_col7\" class=\"data row3 col7\" >-0.08353</td>\n",
              "            </tr>\n",
              "            <tr>\n",
              "                        <th id=\"T_327f8612_c888_11ea_a2ce_acde48001122level0_row4\" class=\"row_heading level0 row4\" >Ocf</th>\n",
              "                        <td id=\"T_327f8612_c888_11ea_a2ce_acde48001122row4_col0\" class=\"data row4 col0\" >0.1083</td>\n",
              "                        <td id=\"T_327f8612_c888_11ea_a2ce_acde48001122row4_col1\" class=\"data row4 col1\" >0.3228</td>\n",
              "                        <td id=\"T_327f8612_c888_11ea_a2ce_acde48001122row4_col2\" class=\"data row4 col2\" >0.6864</td>\n",
              "                        <td id=\"T_327f8612_c888_11ea_a2ce_acde48001122row4_col3\" class=\"data row4 col3\" >0.02168</td>\n",
              "                        <td id=\"T_327f8612_c888_11ea_a2ce_acde48001122row4_col4\" class=\"data row4 col4\" >1</td>\n",
              "                        <td id=\"T_327f8612_c888_11ea_a2ce_acde48001122row4_col5\" class=\"data row4 col5\" >0.03291</td>\n",
              "                        <td id=\"T_327f8612_c888_11ea_a2ce_acde48001122row4_col6\" class=\"data row4 col6\" >-0.2204</td>\n",
              "                        <td id=\"T_327f8612_c888_11ea_a2ce_acde48001122row4_col7\" class=\"data row4 col7\" >-0.04586</td>\n",
              "            </tr>\n",
              "            <tr>\n",
              "                        <th id=\"T_327f8612_c888_11ea_a2ce_acde48001122level0_row5\" class=\"row_heading level0 row5\" >Pb</th>\n",
              "                        <td id=\"T_327f8612_c888_11ea_a2ce_acde48001122row5_col0\" class=\"data row5 col0\" >-0.1256</td>\n",
              "                        <td id=\"T_327f8612_c888_11ea_a2ce_acde48001122row5_col1\" class=\"data row5 col1\" >0.008932</td>\n",
              "                        <td id=\"T_327f8612_c888_11ea_a2ce_acde48001122row5_col2\" class=\"data row5 col2\" >0.3026</td>\n",
              "                        <td id=\"T_327f8612_c888_11ea_a2ce_acde48001122row5_col3\" class=\"data row5 col3\" >0.1274</td>\n",
              "                        <td id=\"T_327f8612_c888_11ea_a2ce_acde48001122row5_col4\" class=\"data row5 col4\" >0.03291</td>\n",
              "                        <td id=\"T_327f8612_c888_11ea_a2ce_acde48001122row5_col5\" class=\"data row5 col5\" >1</td>\n",
              "                        <td id=\"T_327f8612_c888_11ea_a2ce_acde48001122row5_col6\" class=\"data row5 col6\" >0.0596</td>\n",
              "                        <td id=\"T_327f8612_c888_11ea_a2ce_acde48001122row5_col7\" class=\"data row5 col7\" >-0.06619</td>\n",
              "            </tr>\n",
              "            <tr>\n",
              "                        <th id=\"T_327f8612_c888_11ea_a2ce_acde48001122level0_row6\" class=\"row_heading level0 row6\" >Vol1Y_Usd</th>\n",
              "                        <td id=\"T_327f8612_c888_11ea_a2ce_acde48001122row6_col0\" class=\"data row6 col0\" >-0.4179</td>\n",
              "                        <td id=\"T_327f8612_c888_11ea_a2ce_acde48001122row6_col1\" class=\"data row6 col1\" >-0.3383</td>\n",
              "                        <td id=\"T_327f8612_c888_11ea_a2ce_acde48001122row6_col2\" class=\"data row6 col2\" >-0.2158</td>\n",
              "                        <td id=\"T_327f8612_c888_11ea_a2ce_acde48001122row6_col3\" class=\"data row6 col3\" >-0.1229</td>\n",
              "                        <td id=\"T_327f8612_c888_11ea_a2ce_acde48001122row6_col4\" class=\"data row6 col4\" >-0.2204</td>\n",
              "                        <td id=\"T_327f8612_c888_11ea_a2ce_acde48001122row6_col5\" class=\"data row6 col5\" >0.0596</td>\n",
              "                        <td id=\"T_327f8612_c888_11ea_a2ce_acde48001122row6_col6\" class=\"data row6 col6\" >1</td>\n",
              "                        <td id=\"T_327f8612_c888_11ea_a2ce_acde48001122row6_col7\" class=\"data row6 col7\" >0.06601</td>\n",
              "            </tr>\n",
              "            <tr>\n",
              "                        <th id=\"T_327f8612_c888_11ea_a2ce_acde48001122level0_row7\" class=\"row_heading level0 row7\" >R12M_Usd</th>\n",
              "                        <td id=\"T_327f8612_c888_11ea_a2ce_acde48001122row7_col0\" class=\"data row7 col0\" >-0.03717</td>\n",
              "                        <td id=\"T_327f8612_c888_11ea_a2ce_acde48001122row7_col1\" class=\"data row7 col1\" >-0.08585</td>\n",
              "                        <td id=\"T_327f8612_c888_11ea_a2ce_acde48001122row7_col2\" class=\"data row7 col2\" >-0.09762</td>\n",
              "                        <td id=\"T_327f8612_c888_11ea_a2ce_acde48001122row7_col3\" class=\"data row7 col3\" >-0.08353</td>\n",
              "                        <td id=\"T_327f8612_c888_11ea_a2ce_acde48001122row7_col4\" class=\"data row7 col4\" >-0.04586</td>\n",
              "                        <td id=\"T_327f8612_c888_11ea_a2ce_acde48001122row7_col5\" class=\"data row7 col5\" >-0.06619</td>\n",
              "                        <td id=\"T_327f8612_c888_11ea_a2ce_acde48001122row7_col6\" class=\"data row7 col6\" >0.06601</td>\n",
              "                        <td id=\"T_327f8612_c888_11ea_a2ce_acde48001122row7_col7\" class=\"data row7 col7\" >1</td>\n",
              "            </tr>\n",
              "    </tbody></table>"
            ],
            "text/plain": [
              "<pandas.io.formats.style.Styler at 0x7fe7fa008590>"
            ]
          },
          "metadata": {
            "tags": []
          },
          "execution_count": 9
        }
      ]
    },
    {
      "cell_type": "markdown",
      "metadata": {
        "id": "WnclQdcWg_kL",
        "colab_type": "text"
      },
      "source": [
        "---\n",
        "**Histograms**\n",
        "\n",
        "As we can see below, the authors of the dataset have already scaled the dataset so as to prepare for machine learning problems. It should be noted the features are all on scale of 0 to 1 and the label is of a scale not bounded by 1. Additionally, there appears to be an extreme outlier in the label, as the data appears heavily positively skewed.\n",
        "\n",
        "The book (MLFI) states the data has been 'uniformized'. On further reading, the authors have scaled the data with uniformization (Ch 5 Section 4). The equivalent sklearn scaling method appears to be sklearn.preprocessing.quantile_transform (https://scikit-learn.org/stable/modules/generated/sklearn.preprocessing.quantile_transform.html).\n",
        "\n",
        "Some features appears to remain positively skewed. Further reading of the references is required so as to determine proper methods of handling skewness with respect to this specific type of financial data."
      ]
    },
    {
      "cell_type": "code",
      "metadata": {
        "id": "qoC4nxHig_kL",
        "colab_type": "code",
        "colab": {},
        "outputId": "df1ae5b7-00d6-4802-e649-e28dd01c57be"
      },
      "source": [
        "# plot a histogram for each numerical attribute to get a feel of data\n",
        "%matplotlib inline\n",
        "import matplotlib.pyplot as plt\n",
        "df[eda_features_label].hist(bins=50, figsize=(14,14))\n",
        "plt.show()"
      ],
      "execution_count": null,
      "outputs": [
        {
          "output_type": "display_data",
          "data": {
            "image/png": "[encoded data removed]",
            "text/plain": [
              "<Figure size 1008x1008 with 9 Axes>"
            ]
          },
          "metadata": {
            "tags": [],
            "needs_background": "light"
          }
        }
      ]
    },
    {
      "cell_type": "markdown",
      "metadata": {
        "id": "SFf0_YDGg_kN",
        "colab_type": "text"
      },
      "source": [
        "---\n",
        "**Scatter Matrix**\n",
        "\n",
        "Dividend Yield and Earnings Per Share show negative correlations - implying the lower the dividend-yield or EPS, the higher the return.\n",
        "\n",
        "All other features Mkt_Cap_12M_Usd, Mom_11M_Usd, Ocf, and Pb all share similar appearance or correlations as dividend yield and EPS; however these results are less intuitive than dividend yield and EPS, and explanations are saved for Phase 2 of the project.\n",
        "\n",
        "Vol1Y_Usd exhibits the only positive relationship. However, higher volatility means an increase in risk. Where risk is defined as losses. Risk averse investors may consider this universe of stock_ids as not desirable given the correlation of high risk with higher returns."
      ]
    },
    {
      "cell_type": "code",
      "metadata": {
        "id": "UQ04xrGpg_kO",
        "colab_type": "code",
        "colab": {},
        "outputId": "b0ef524e-0184-433b-d6d0-64bba90dbf92"
      },
      "source": [
        "# gather plots in object\n",
        "axes = pd.plotting.scatter_matrix(df[eda_features_label], figsize=(20, 20));\n",
        "\n",
        "# filter through and hide all but label's row\n",
        "for i in range(len(axes)):\n",
        "    # condition if y variable is price\n",
        "    # hide the plot for (x=price, y=price)\n",
        "    if i == len(axes)-1:\n",
        "        for j in range(len(axes)):\n",
        "            if j == len(axes)-1:\n",
        "                axes[i,j].set_visible(False)\n",
        "    # hide all other (x=sm_data[0:-1], y=other index values)\n",
        "    elif i != len(axes)-1:\n",
        "        for j in range(len(axes)):\n",
        "            # hide the plot\n",
        "            axes[i,j].set_visible(False)"
      ],
      "execution_count": null,
      "outputs": [
        {
          "output_type": "display_data",
          "data": {
            "image/png": "[encoded data removed]",
            "text/plain": [
              "<Figure size 1440x1440 with 64 Axes>"
            ]
          },
          "metadata": {
            "tags": [],
            "needs_background": "light"
          }
        }
      ]
    },
    {
      "cell_type": "markdown",
      "metadata": {
        "id": "15ur3a2Pg_kU",
        "colab_type": "text"
      },
      "source": [
        "---\n",
        "---"
      ]
    },
    {
      "cell_type": "markdown",
      "metadata": {
        "id": "5L1hWFxmg_kV",
        "colab_type": "text"
      },
      "source": [
        "## Algorithm Selection"
      ]
    },
    {
      "cell_type": "markdown",
      "metadata": {
        "id": "cqTNGIPwg_kV",
        "colab_type": "text"
      },
      "source": [
        "**_Algorithm Selection_**\n",
        "\n",
        "Our algorithm selection will be limited to supervised learning algorithms. Additionally, our models are multivariate regressors. According to the MLFI text \"The original labels (future returns) are numerical and will be used for regression exercises, that is, when the objective is to predict a scalar real number\". Meaning, if we are to create classifiers, we must create categorical features based on buy, hold (or no position), or sell (short the stock) cardinal indicators (-1 -> short, 0 -> no position, 1 -> long [buy]). \n",
        "\n",
        "The book, Machine Learning for Factor Investing, covers the following supervised machine learning algorithm types in depth, devoting a chapter to each: tree based networks, neural networks, support vector machines, and bayseian methods. Python for Finance covers Decision Tree classifiers, Logistic Regression, and Gaussian Naive Bayes classification. We will use the following algorithms, where our initial focus are multivariate regression models:\n",
        "\n",
        "* Random Forests:\n",
        "    * MLFI: http://www.mlfactor.com/trees.html\n",
        "    * SKL:  \n",
        "     - Regression: https://scikit-learn.org/stable/modules/generated/sklearn.ensemble.RandomForestRegressor.html\n",
        "\n",
        "* Support Vector Machines: \n",
        "    * MLFI: http://www.mlfactor.com/svm.html\n",
        "    * SKL:\n",
        "     - Regression: https://scikit-learn.org/stable/modules/generated/sklearn.svm.SVR.html\n",
        "* Bayesian Methods: \n",
        "    * MLFI: http://www.mlfactor.com/bayes.html\n",
        "    * SKL:  \n",
        "     - Regression: https://scikit-learn.org/stable/modules/generated/sklearn.linear_model.BayesianRidge.html#sklearn.linear_model.BayesianRidge\n",
        "* Logistic Regression\n",
        "    * SKL:\n",
        "     - Regression: https://scikit-learn.org/stable/modules/generated/sklearn.linear_model.LogisticRegression.html"
      ]
    }
  ]
}